{
  "nbformat": 4,
  "nbformat_minor": 0,
  "metadata": {
    "colab": {
      "name": "KNN based Iris Classification.ipynb",
      "provenance": [],
      "authorship_tag": "ABX9TyMrZ1kgMWE/nlWMxiNkSha7",
      "include_colab_link": true
    },
    "kernelspec": {
      "name": "python3",
      "display_name": "Python 3"
    }
  },
  "cells": [
    {
      "cell_type": "markdown",
      "metadata": {
        "id": "view-in-github",
        "colab_type": "text"
      },
      "source": [
        "<a href=\"https://colab.research.google.com/github/dev-zohaib/KNN_based_Iris_Classification/blob/master/KNN_based_Iris_Classification.ipynb\" target=\"_parent\"><img src=\"https://colab.research.google.com/assets/colab-badge.svg\" alt=\"Open In Colab\"/></a>"
      ]
    },
    {
      "cell_type": "markdown",
      "metadata": {
        "id": "wCMA_Dj0hg4c",
        "colab_type": "text"
      },
      "source": [
        "# Iris Classification Scikit learn Practice "
      ]
    },
    {
      "cell_type": "markdown",
      "metadata": {
        "id": "FlF07Qx5h911",
        "colab_type": "text"
      },
      "source": [
        "# Modeling Iris Dataset\n",
        "* Using Scikit Learn\n",
        "\n",
        "## Summary of this project\n",
        "\n",
        "\n",
        "\n",
        "1. Loading and Understanding Data\n",
        "2. Visualizing Data\n",
        "3. Deciding RegreRegression or ClassiClassification \n",
        "4. Creating a Model using `Scikit`\n",
        "5. Testing \n",
        "6. Tuning the model(Deciding no of neighbors in case on `KNN`)   \n",
        "7. Prediction \n",
        "\n"
      ]
    },
    {
      "cell_type": "code",
      "metadata": {
        "id": "fNT--Mu5f2Z4",
        "colab_type": "code",
        "colab": {}
      },
      "source": [
        "\n",
        "\n"
      ],
      "execution_count": 0,
      "outputs": []
    },
    {
      "cell_type": "markdown",
      "metadata": {
        "id": "QXwbgof8lqST",
        "colab_type": "text"
      },
      "source": [
        "# Loading and Understanding Iris Data "
      ]
    },
    {
      "cell_type": "code",
      "metadata": {
        "id": "Xb0e2aTNl9vN",
        "colab_type": "code",
        "colab": {}
      },
      "source": [
        "\"\"\"\n",
        "from sklearn import datasets\n",
        "iris = datasets.load_iris()\n",
        "        or \n",
        "you can import the dataset form the other way\n",
        "\"\"\"\n",
        "from sklearn.datasets import load_iris\n",
        "iris = load_iris()"
      ],
      "execution_count": 0,
      "outputs": []
    },
    {
      "cell_type": "code",
      "metadata": {
        "id": "W4Tx6XklmrwF",
        "colab_type": "code",
        "colab": {
          "base_uri": "https://localhost:8080/",
          "height": 35
        },
        "outputId": "f968c908-780d-4edd-ebae-2bdc268e3370"
      },
      "source": [
        "# lets cheek the type of dataset\n",
        "type(iris)\n",
        "# it is \"bunch\" object contains data and its attributes"
      ],
      "execution_count": 4,
      "outputs": [
        {
          "output_type": "execute_result",
          "data": {
            "text/plain": [
              "sklearn.utils.Bunch"
            ]
          },
          "metadata": {
            "tags": []
          },
          "execution_count": 4
        }
      ]
    },
    {
      "cell_type": "code",
      "metadata": {
        "id": "hjDs4cO_nQC_",
        "colab_type": "code",
        "colab": {
          "base_uri": "https://localhost:8080/",
          "height": 88
        },
        "outputId": "34b2e846-db5b-4b6a-d888-d5b4f9b8fe9c"
      },
      "source": [
        "# lets prints its features and targets names\n",
        "\n",
        "print(\"Features : \")\n",
        "print(iris.feature_names)\n",
        "print(\"Target : \")\n",
        "print(iris.target_names)\n",
        "\n",
        "\"\"\"\n",
        "features values are store in iris.data\n",
        "target values are store in iris.target\n",
        "\"\"\""
      ],
      "execution_count": 7,
      "outputs": [
        {
          "output_type": "stream",
          "text": [
            "Features : \n",
            "['sepal length (cm)', 'sepal width (cm)', 'petal length (cm)', 'petal width (cm)']\n",
            "Target : \n",
            "['setosa' 'versicolor' 'virginica']\n"
          ],
          "name": "stdout"
        }
      ]
    },
    {
      "cell_type": "code",
      "metadata": {
        "id": "FtqMKJYdodSL",
        "colab_type": "code",
        "colab": {
          "base_uri": "https://localhost:8080/",
          "height": 178
        },
        "outputId": "b43280ab-c540-4016-a584-f62fa231b8a7"
      },
      "source": [
        "# lets cheek the the features value and target values\n",
        "\n",
        "X = iris.data\n",
        "y = iris.target\n",
        "\n",
        "# cheeking the type of target and features\n",
        "print(type(iris.data))\n",
        "print(type(iris.target))\n",
        "\n",
        "# printing the 1st sample of features , note the syntax means zeroth row or sary columns \n",
        "print(X[0,:])\n",
        "print(y) # note that data is encoded already \n",
        "print(iris.target_names) \n",
        "\n",
        "\"\"\"\n",
        "target names are :\n",
        "setosa      : 0\n",
        "Versicolor  : 1 \n",
        "virginica   : 2\n",
        "\"\"\""
      ],
      "execution_count": 22,
      "outputs": [
        {
          "output_type": "stream",
          "text": [
            "<class 'numpy.ndarray'>\n",
            "<class 'numpy.ndarray'>\n",
            "[5.1 3.5 1.4 0.2]\n",
            "[0 0 0 0 0 0 0 0 0 0 0 0 0 0 0 0 0 0 0 0 0 0 0 0 0 0 0 0 0 0 0 0 0 0 0 0 0\n",
            " 0 0 0 0 0 0 0 0 0 0 0 0 0 1 1 1 1 1 1 1 1 1 1 1 1 1 1 1 1 1 1 1 1 1 1 1 1\n",
            " 1 1 1 1 1 1 1 1 1 1 1 1 1 1 1 1 1 1 1 1 1 1 1 1 1 1 2 2 2 2 2 2 2 2 2 2 2\n",
            " 2 2 2 2 2 2 2 2 2 2 2 2 2 2 2 2 2 2 2 2 2 2 2 2 2 2 2 2 2 2 2 2 2 2 2 2 2\n",
            " 2 2]\n",
            "['setosa' 'versicolor' 'virginica']\n"
          ],
          "name": "stdout"
        }
      ]
    },
    {
      "cell_type": "code",
      "metadata": {
        "id": "TZoSNIJqrp_j",
        "colab_type": "code",
        "colab": {
          "base_uri": "https://localhost:8080/",
          "height": 53
        },
        "outputId": "ff0521c5-494e-47df-f505-7bcff5dd196a"
      },
      "source": [
        "# lets cheek the data shape\n",
        "print(X.shape)\n",
        "print(y.shape)\n",
        "\n",
        "\"\"\"\n",
        "So the dimensin of our data is 150 row and 4 columbs: 150x4\n",
        "dimension of target is 1 row and 150 colum \n",
        "\n",
        "note: we can use reshape(-1,1) to covert it into 150x1\n",
        "\"\"\"\n"
      ],
      "execution_count": 23,
      "outputs": [
        {
          "output_type": "stream",
          "text": [
            "(150, 4)\n",
            "(150,)\n"
          ],
          "name": "stdout"
        }
      ]
    },
    {
      "cell_type": "markdown",
      "metadata": {
        "id": "Nj46rsnzl859",
        "colab_type": "text"
      },
      "source": [
        "# Visualization of Data\n",
        "1. Converting numpy array into Dataframe for data visualization\n",
        "2. Plotting different category based on Sepal length and width\n",
        "3. Plotting different category based on Petal length and width\n"
      ]
    },
    {
      "cell_type": "code",
      "metadata": {
        "id": "cO7HSGHBs4lg",
        "colab_type": "code",
        "colab": {
          "base_uri": "https://localhost:8080/",
          "height": 198
        },
        "outputId": "fc1b8e39-2cd4-4b90-e015-18cbf3707cc3"
      },
      "source": [
        "# let convert the data into pandas DataFrame it would be easy to understand and visualize\n",
        "\n",
        "import pandas as pd\n",
        "data = pd.DataFrame(X, columns=iris.feature_names)\n",
        "data['target'] = pd.DataFrame(y.reshape(-1,1), columns=[\"target\"])\n",
        "data.head() # by default head() method show the top 5 entry of data you can pass any interger to the table "
      ],
      "execution_count": 28,
      "outputs": [
        {
          "output_type": "execute_result",
          "data": {
            "text/html": [
              "<div>\n",
              "<style scoped>\n",
              "    .dataframe tbody tr th:only-of-type {\n",
              "        vertical-align: middle;\n",
              "    }\n",
              "\n",
              "    .dataframe tbody tr th {\n",
              "        vertical-align: top;\n",
              "    }\n",
              "\n",
              "    .dataframe thead th {\n",
              "        text-align: right;\n",
              "    }\n",
              "</style>\n",
              "<table border=\"1\" class=\"dataframe\">\n",
              "  <thead>\n",
              "    <tr style=\"text-align: right;\">\n",
              "      <th></th>\n",
              "      <th>sepal length (cm)</th>\n",
              "      <th>sepal width (cm)</th>\n",
              "      <th>petal length (cm)</th>\n",
              "      <th>petal width (cm)</th>\n",
              "      <th>target</th>\n",
              "    </tr>\n",
              "  </thead>\n",
              "  <tbody>\n",
              "    <tr>\n",
              "      <th>0</th>\n",
              "      <td>5.1</td>\n",
              "      <td>3.5</td>\n",
              "      <td>1.4</td>\n",
              "      <td>0.2</td>\n",
              "      <td>0</td>\n",
              "    </tr>\n",
              "    <tr>\n",
              "      <th>1</th>\n",
              "      <td>4.9</td>\n",
              "      <td>3.0</td>\n",
              "      <td>1.4</td>\n",
              "      <td>0.2</td>\n",
              "      <td>0</td>\n",
              "    </tr>\n",
              "    <tr>\n",
              "      <th>2</th>\n",
              "      <td>4.7</td>\n",
              "      <td>3.2</td>\n",
              "      <td>1.3</td>\n",
              "      <td>0.2</td>\n",
              "      <td>0</td>\n",
              "    </tr>\n",
              "    <tr>\n",
              "      <th>3</th>\n",
              "      <td>4.6</td>\n",
              "      <td>3.1</td>\n",
              "      <td>1.5</td>\n",
              "      <td>0.2</td>\n",
              "      <td>0</td>\n",
              "    </tr>\n",
              "    <tr>\n",
              "      <th>4</th>\n",
              "      <td>5.0</td>\n",
              "      <td>3.6</td>\n",
              "      <td>1.4</td>\n",
              "      <td>0.2</td>\n",
              "      <td>0</td>\n",
              "    </tr>\n",
              "  </tbody>\n",
              "</table>\n",
              "</div>"
            ],
            "text/plain": [
              "   sepal length (cm)  sepal width (cm)  ...  petal width (cm)  target\n",
              "0                5.1               3.5  ...               0.2       0\n",
              "1                4.9               3.0  ...               0.2       0\n",
              "2                4.7               3.2  ...               0.2       0\n",
              "3                4.6               3.1  ...               0.2       0\n",
              "4                5.0               3.6  ...               0.2       0\n",
              "\n",
              "[5 rows x 5 columns]"
            ]
          },
          "metadata": {
            "tags": []
          },
          "execution_count": 28
        }
      ]
    },
    {
      "cell_type": "code",
      "metadata": {
        "id": "elGPCtnv2_P_",
        "colab_type": "code",
        "colab": {
          "base_uri": "https://localhost:8080/",
          "height": 653
        },
        "outputId": "aa97a02e-60c4-4430-fd85-61f0f6cf81c5"
      },
      "source": [
        "from matplotlib import pyplot as plt \n",
        "\n",
        "fig = plt.figure(figsize=(20,10))\n",
        "graph = fig.add_subplot(121)\n",
        "graph.set_title(\"Sepal length and Width\",fontsize =20)\n",
        "graph.set_xlabel('Sepal Length (cm)', fontsize=18)\n",
        "graph.set_ylabel('Sepal Width (cm)',fontsize=18)\n",
        "graph.grid(True)\n",
        "graph.scatter(data['sepal length (cm)'], data['sepal width (cm)'], s = 50, \n",
        "           c=data['target'], marker='o')\n",
        "\n",
        "# Sepal Length and Width\n",
        "graph = fig.add_subplot(122)\n",
        "graph.set_title(\"Petal length and width\", fontsize=20)\n",
        "graph.set_xlabel('Petal Length (cm)', fontsize=18)\n",
        "graph.set_ylabel('Petal width (cm)', fontsize=18)\n",
        "graph.grid(True)\n",
        "graph.scatter(data['petal length (cm)'], data['petal width (cm)'], s = 50, \n",
        "           c=data['target'], marker='o')"
      ],
      "execution_count": 42,
      "outputs": [
        {
          "output_type": "execute_result",
          "data": {
            "text/plain": [
              "<matplotlib.collections.PathCollection at 0x7f9ab4da8240>"
            ]
          },
          "metadata": {
            "tags": []
          },
          "execution_count": 42
        },
        {
          "output_type": "display_data",
          "data": {
            "image/png": "[encoded data removed]",
            "text/plain": [
              "<Figure size 1440x720 with 2 Axes>"
            ]
          },
          "metadata": {
            "tags": [],
            "needs_background": "light"
          }
        }
      ]
    },
    {
      "cell_type": "markdown",
      "metadata": {
        "id": "fAYGflvi8iNl",
        "colab_type": "text"
      },
      "source": [
        "***`So the above analysis show that we can use on 2 features to predict our target class. `***\n",
        "\n",
        "# Chossing the model \n",
        "lets choose Knn model\n",
        "## KNN Classification\n",
        "1. pick the value of k(e.g 5,6,7,8) \n",
        "*`We will see HOW we choose k `*\n",
        "2. Model calculates the numerical distance of the unknown iris to the known iris data and finds the k smallest distances in the data set\n",
        "3. From the k observations, we predict our target class."
      ]
    },
    {
      "cell_type": "code",
      "metadata": {
        "id": "4GhI25yB-BJJ",
        "colab_type": "code",
        "colab": {}
      },
      "source": [
        "\n",
        "# Split X and y into training and testing sets. Here 40% is for testing\n",
        "from sklearn.model_selection  import train_test_split\n",
        "\n",
        "X_train, X_test, y_train, y_test = train_test_split(X, y, test_size=0.4, random_state = 1111)"
      ],
      "execution_count": 0,
      "outputs": []
    },
    {
      "cell_type": "code",
      "metadata": {
        "id": "jFA7h-vBAb6m",
        "colab_type": "code",
        "colab": {
          "base_uri": "https://localhost:8080/",
          "height": 88
        },
        "outputId": "17d52826-603b-431b-8452-6ad046f7ff71"
      },
      "source": [
        "# printing the X shapes\n",
        "print(X_train.shape)\n",
        "print(X_test.shape)\n",
        "\n",
        "# printing the y shapes\n",
        "print(y_train.shape)\n",
        "print(y_test.shape)"
      ],
      "execution_count": 51,
      "outputs": [
        {
          "output_type": "stream",
          "text": [
            "(90, 4)\n",
            "(60, 4)\n",
            "(90,)\n",
            "(60,)\n"
          ],
          "name": "stdout"
        }
      ]
    },
    {
      "cell_type": "markdown",
      "metadata": {
        "id": "qhERgk_qAvi0",
        "colab_type": "text"
      },
      "source": [
        "Test for KNN(k=5)"
      ]
    },
    {
      "cell_type": "code",
      "metadata": {
        "id": "VV9HRVJMAnRx",
        "colab_type": "code",
        "colab": {
          "base_uri": "https://localhost:8080/",
          "height": 35
        },
        "outputId": "7d582fdd-2df0-457b-8fed-d0b382223463"
      },
      "source": [
        "# import model\n",
        "from sklearn.neighbors import KNeighborsClassifier\n",
        "from sklearn import metrics # for measuring accuracy\n",
        "\n",
        "# instantiating model. Choosing K=5\n",
        "knn = KNeighborsClassifier(n_neighbors=5)\n",
        "\n",
        "# train\n",
        "knn.fit(X_train, y_train)\n",
        "\n",
        "# predict\n",
        "y_pred = knn.predict(X_test)\n",
        "\n",
        "# test accuracy\n",
        "print(metrics.accuracy_score(y_test, y_pred))\n"
      ],
      "execution_count": 52,
      "outputs": [
        {
          "output_type": "stream",
          "text": [
            "0.9833333333333333\n"
          ],
          "name": "stdout"
        }
      ]
    },
    {
      "cell_type": "markdown",
      "metadata": {
        "id": "5vdXtFZMA7bE",
        "colab_type": "text"
      },
      "source": [
        "Test for KNN(k=1)"
      ]
    },
    {
      "cell_type": "code",
      "metadata": {
        "id": "QKVbyhDBA6on",
        "colab_type": "code",
        "colab": {
          "base_uri": "https://localhost:8080/",
          "height": 35
        },
        "outputId": "a2683254-ca90-4f3a-c9b3-101d9c0edf14"
      },
      "source": [
        "# instantiate class\n",
        "knn = KNeighborsClassifier(n_neighbors = 1)\n",
        "\n",
        "# train\n",
        "knn.fit(X_train, y_train)\n",
        "\n",
        "# predict\n",
        "y_pred = knn.predict(X_test)\n",
        "\n",
        "# test accuracy\n",
        "print(metrics.accuracy_score(y_test, y_pred))"
      ],
      "execution_count": 53,
      "outputs": [
        {
          "output_type": "stream",
          "text": [
            "0.95\n"
          ],
          "name": "stdout"
        }
      ]
    },
    {
      "cell_type": "markdown",
      "metadata": {
        "id": "bW4JRhvNBGHw",
        "colab_type": "text"
      },
      "source": [
        "**AS you can see that changing the no of k change the accuracy of model , now how to find the best value of k?**\n",
        "\n",
        "# Model Tuning -Finding the best value of k\n",
        "* let cheek the accuracy socore for differnt values of K and find the best value of k."
      ]
    },
    {
      "cell_type": "code",
      "metadata": {
        "id": "lEFX2wrZBP1g",
        "colab_type": "code",
        "colab": {
          "base_uri": "https://localhost:8080/",
          "height": 55
        },
        "outputId": "44d4cbcd-d2fc-4e5a-f571-e1d59cab049a"
      },
      "source": [
        "k_range = range(1, 30) \n",
        "scores = []\n",
        "for k in k_range:\n",
        "    knn = KNeighborsClassifier(n_neighbors=k)\n",
        "    knn.fit(X_train, y_train)\n",
        "    y_pred = knn.predict(X_test)\n",
        "    scores.append(metrics.accuracy_score(y_test, y_pred))\n",
        "\"\"\"\n",
        "1-We declare the range of k from 1 to 10\n",
        "2-Then declare a empty list to save the accuracy for evert k\n",
        "3-then we loop through the every value of k and initialize the model with current vlaue of k.\n",
        "4-then train the model.\n",
        "5-them make the predicton on unseen data \n",
        "6 then calucalte the accuracy and append in the empty list.\n",
        "\"\"\""
      ],
      "execution_count": 56,
      "outputs": [
        {
          "output_type": "execute_result",
          "data": {
            "text/plain": [
              "'\\n1-We declare the range of k from 1 to 10\\n2-Then declare a empty list to save the accuracy for evert k\\n3-then we loop through the every value of k and initialize the model with current vlaue of k.\\n4-then train the model.\\n5-them make the predicton on unseen data \\n6 then calucalte the accuracy and append in the empty list.\\n'"
            ]
          },
          "metadata": {
            "tags": []
          },
          "execution_count": 56
        }
      ]
    },
    {
      "cell_type": "code",
      "metadata": {
        "id": "1kwpTqFjCgKF",
        "colab_type": "code",
        "colab": {
          "base_uri": "https://localhost:8080/",
          "height": 279
        },
        "outputId": "433022ea-2580-4814-fae7-bbea4791a98c"
      },
      "source": [
        "# plot the relationship between K and testing accuracy\n",
        "plt.plot(k_range, scores, color=\"green\")\n",
        "plt.xlabel(\"K-Value\")\n",
        "plt.ylabel(\"Accuracy Score\") \n",
        "plt.grid(True)"
      ],
      "execution_count": 58,
      "outputs": [
        {
          "output_type": "display_data",
          "data": {
            "image/png": "[encoded data removed]",
            "text/plain": [
              "<Figure size 432x288 with 1 Axes>"
            ]
          },
          "metadata": {
            "tags": [],
            "needs_background": "light"
          }
        }
      ]
    },
    {
      "cell_type": "markdown",
      "metadata": {
        "id": "HJH06Gz6GNdZ",
        "colab_type": "text"
      },
      "source": [
        "# So the grphy show that which is best value for k."
      ]
    },
    {
      "cell_type": "code",
      "metadata": {
        "id": "oI6iBzXAGVG3",
        "colab_type": "code",
        "colab": {
          "base_uri": "https://localhost:8080/",
          "height": 53
        },
        "outputId": "06c01f5a-0413-4086-a815-b49d4179378c"
      },
      "source": [
        "import numpy as np\n",
        "knn = KNeighborsClassifier(n_neighbors=5)\n",
        "\n",
        "# training the model using all data\n",
        "knn.fit(X, y)\n",
        "sample =np.array([[3, 5, 4, 2]])\n",
        "print(sample.shape)\n",
        "#making predictions on out-of-sample data\n",
        "knn.predict(sample)"
      ],
      "execution_count": 78,
      "outputs": [
        {
          "output_type": "stream",
          "text": [
            "(1, 4)\n"
          ],
          "name": "stdout"
        },
        {
          "output_type": "execute_result",
          "data": {
            "text/plain": [
              "array([1])"
            ]
          },
          "metadata": {
            "tags": []
          },
          "execution_count": 78
        }
      ]
    }
  ]
}